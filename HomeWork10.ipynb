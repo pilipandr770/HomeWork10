{
  "nbformat": 4,
  "nbformat_minor": 0,
  "metadata": {
    "colab": {
      "provenance": [],
      "authorship_tag": "ABX9TyNwOqNe098ECGz3lJrzX39w",
      "include_colab_link": true
    },
    "kernelspec": {
      "name": "python3",
      "display_name": "Python 3"
    },
    "language_info": {
      "name": "python"
    }
  },
  "cells": [
    {
      "cell_type": "markdown",
      "metadata": {
        "id": "view-in-github",
        "colab_type": "text"
      },
      "source": [
        "<a href=\"https://colab.research.google.com/github/pilipandr770/HomeWork10/blob/main/HomeWork10.ipynb\" target=\"_parent\"><img src=\"https://colab.research.google.com/assets/colab-badge.svg\" alt=\"Open In Colab\"/></a>"
      ]
    },
    {
      "source": [
        "!pip install scikit-surprise"
      ],
      "cell_type": "code",
      "metadata": {
        "colab": {
          "base_uri": "https://localhost:8080/"
        },
        "id": "NLnvHVHZ9AmH",
        "outputId": "d5d96802-5cef-4d92-b7af-0fadc6761f9e"
      },
      "execution_count": 3,
      "outputs": [
        {
          "output_type": "stream",
          "name": "stdout",
          "text": [
            "Collecting scikit-surprise\n",
            "  Downloading scikit_surprise-1.1.4.tar.gz (154 kB)\n",
            "\u001b[?25l     \u001b[90m━━━━━━━━━━━━━━━━━━━━━━━━━━━━━━━━━━━━━━━━\u001b[0m \u001b[32m0.0/154.4 kB\u001b[0m \u001b[31m?\u001b[0m eta \u001b[36m-:--:--\u001b[0m\r\u001b[2K     \u001b[90m━━━━━━━━━━━━━━━━━━━━━━━━━━━━━━━━━━━━━━━━\u001b[0m \u001b[32m154.4/154.4 kB\u001b[0m \u001b[31m4.6 MB/s\u001b[0m eta \u001b[36m0:00:00\u001b[0m\n",
            "\u001b[?25h  Installing build dependencies ... \u001b[?25l\u001b[?25hdone\n",
            "  Getting requirements to build wheel ... \u001b[?25l\u001b[?25hdone\n",
            "  Preparing metadata (pyproject.toml) ... \u001b[?25l\u001b[?25hdone\n",
            "Requirement already satisfied: joblib>=1.2.0 in /usr/local/lib/python3.10/dist-packages (from scikit-surprise) (1.4.2)\n",
            "Requirement already satisfied: numpy>=1.19.5 in /usr/local/lib/python3.10/dist-packages (from scikit-surprise) (1.25.2)\n",
            "Requirement already satisfied: scipy>=1.6.0 in /usr/local/lib/python3.10/dist-packages (from scikit-surprise) (1.13.1)\n",
            "Building wheels for collected packages: scikit-surprise\n",
            "  Building wheel for scikit-surprise (pyproject.toml) ... \u001b[?25l\u001b[?25hdone\n",
            "  Created wheel for scikit-surprise: filename=scikit_surprise-1.1.4-cp310-cp310-linux_x86_64.whl size=2357252 sha256=26c9afeefc2a80ec57b39db57d603674fd1ef39a0361d38ddc77c670f1182606\n",
            "  Stored in directory: /root/.cache/pip/wheels/4b/3f/df/6acbf0a40397d9bf3ff97f582cc22fb9ce66adde75bc71fd54\n",
            "Successfully built scikit-surprise\n",
            "Installing collected packages: scikit-surprise\n",
            "Successfully installed scikit-surprise-1.1.4\n"
          ]
        }
      ]
    },
    {
      "cell_type": "code",
      "source": [
        "import surprise\n",
        "from surprise import Dataset, Reader, SVD, SVDpp, NMF\n",
        "from surprise.model_selection import cross_validate, GridSearchCV"
      ],
      "metadata": {
        "id": "ozdp18pw9ZAQ"
      },
      "execution_count": 4,
      "outputs": []
    },
    {
      "cell_type": "code",
      "source": [
        "# Завантаження даних MovieLens\n",
        "data = Dataset.load_builtin('ml-100k')"
      ],
      "metadata": {
        "colab": {
          "base_uri": "https://localhost:8080/"
        },
        "id": "wTl6BFCO9fMb",
        "outputId": "bdd65c36-2725-472d-bc5f-fe30730f4635"
      },
      "execution_count": 5,
      "outputs": [
        {
          "output_type": "stream",
          "name": "stdout",
          "text": [
            "Dataset ml-100k could not be found. Do you want to download it? [Y/n] y\n",
            "Trying to download dataset from https://files.grouplens.org/datasets/movielens/ml-100k.zip...\n",
            "Done! Dataset ml-100k has been saved to /root/.surprise_data/ml-100k\n"
          ]
        }
      ]
    },
    {
      "cell_type": "code",
      "source": [
        "# Визначення параметрів для SVD\n",
        "param_grid = {\n",
        "    'n_epochs': [20, 30],\n",
        "    'lr_all': [0.002, 0.005],\n",
        "    'reg_all': [0.4, 0.6]\n",
        "}"
      ],
      "metadata": {
        "id": "pVuGW24o9pKl"
      },
      "execution_count": 6,
      "outputs": []
    },
    {
      "cell_type": "code",
      "source": [
        "# Використання GridSearchCV для пошуку найкращих параметрів\n",
        "gs = GridSearchCV(SVD, param_grid, measures=['rmse'], cv=3)\n",
        "gs.fit(data)"
      ],
      "metadata": {
        "id": "7qE5cqrD9w6j"
      },
      "execution_count": 7,
      "outputs": []
    },
    {
      "cell_type": "code",
      "source": [
        "# Отримання найкращої моделі\n",
        "best_svd = gs.best_estimator['rmse']"
      ],
      "metadata": {
        "id": "cfV1hR1P-6Tj"
      },
      "execution_count": 8,
      "outputs": []
    },
    {
      "cell_type": "code",
      "source": [
        "# Перевірка найкращої моделі на всіх даних\n",
        "cross_validate(best_svd, data, measures=['RMSE', 'MAE'], cv=5, verbose=True)"
      ],
      "metadata": {
        "colab": {
          "base_uri": "https://localhost:8080/"
        },
        "id": "D82bKii2_NOQ",
        "outputId": "e5d4bbfa-e8ca-4e0a-803d-4bae1dcb7ab4"
      },
      "execution_count": 9,
      "outputs": [
        {
          "output_type": "stream",
          "name": "stdout",
          "text": [
            "Evaluating RMSE, MAE of algorithm SVD on 5 split(s).\n",
            "\n",
            "                  Fold 1  Fold 2  Fold 3  Fold 4  Fold 5  Mean    Std     \n",
            "RMSE (testset)    0.9476  0.9593  0.9586  0.9542  0.9559  0.9551  0.0042  \n",
            "MAE (testset)     0.7594  0.7680  0.7679  0.7651  0.7637  0.7648  0.0032  \n",
            "Fit time          2.94    2.07    2.32    2.35    3.27    2.59    0.44    \n",
            "Test time         0.24    0.18    0.25    0.16    0.12    0.19    0.05    \n"
          ]
        },
        {
          "output_type": "execute_result",
          "data": {
            "text/plain": [
              "{'test_rmse': array([0.94760666, 0.95930316, 0.95860064, 0.95418114, 0.95585992]),\n",
              " 'test_mae': array([0.75940679, 0.7679689 , 0.76794912, 0.76507653, 0.76370618]),\n",
              " 'fit_time': (2.9396684169769287,\n",
              "  2.0746893882751465,\n",
              "  2.3170762062072754,\n",
              "  2.3545408248901367,\n",
              "  3.268702745437622),\n",
              " 'test_time': (0.2441859245300293,\n",
              "  0.1820063591003418,\n",
              "  0.2468724250793457,\n",
              "  0.15746235847473145,\n",
              "  0.12108683586120605)}"
            ]
          },
          "metadata": {},
          "execution_count": 9
        }
      ]
    },
    {
      "cell_type": "code",
      "source": [
        "# Використання інших алгоритмів: SVD++ та NMF\n",
        "# SVD++\n",
        "param_grid_svdpp = {\n",
        "    'n_epochs': [20, 30],\n",
        "    'lr_all': [0.002, 0.005],\n",
        "    'reg_all': [0.4, 0.6]\n",
        "}\n",
        "gs_svdpp = GridSearchCV(SVDpp, param_grid_svdpp, measures=['rmse'], cv=3)\n",
        "gs_svdpp.fit(data)\n",
        "best_svdpp = gs_svdpp.best_estimator['rmse']\n",
        "cross_validate(best_svdpp, data, measures=['RMSE', 'MAE'], cv=5, verbose=True)"
      ],
      "metadata": {
        "colab": {
          "base_uri": "https://localhost:8080/"
        },
        "id": "1B3EnzF6_fxS",
        "outputId": "384ea994-7d20-4be9-8f49-2d2e15b04435"
      },
      "execution_count": 10,
      "outputs": [
        {
          "output_type": "stream",
          "name": "stdout",
          "text": [
            "Evaluating RMSE, MAE of algorithm SVDpp on 5 split(s).\n",
            "\n",
            "                  Fold 1  Fold 2  Fold 3  Fold 4  Fold 5  Mean    Std     \n",
            "RMSE (testset)    0.9571  0.9534  0.9550  0.9528  0.9597  0.9556  0.0025  \n",
            "MAE (testset)     0.7650  0.7644  0.7646  0.7626  0.7694  0.7652  0.0022  \n",
            "Fit time          41.44   42.49   41.64   40.86   41.24   41.53   0.54    \n",
            "Test time         4.80    4.73    5.62    4.95    4.82    4.98    0.33    \n"
          ]
        },
        {
          "output_type": "execute_result",
          "data": {
            "text/plain": [
              "{'test_rmse': array([0.95711863, 0.95341424, 0.95502764, 0.95284305, 0.9597242 ]),\n",
              " 'test_mae': array([0.76495497, 0.76443584, 0.7646457 , 0.76264264, 0.76935093]),\n",
              " 'fit_time': (41.443360567092896,\n",
              "  42.48585867881775,\n",
              "  41.6375093460083,\n",
              "  40.86446976661682,\n",
              "  41.24352693557739),\n",
              " 'test_time': (4.796830654144287,\n",
              "  4.729100942611694,\n",
              "  5.624385595321655,\n",
              "  4.945263862609863,\n",
              "  4.818082332611084)}"
            ]
          },
          "metadata": {},
          "execution_count": 10
        }
      ]
    },
    {
      "cell_type": "code",
      "source": [
        "# NMF\n",
        "param_grid_nmf = {\n",
        "    'n_epochs': [20, 30],\n",
        "    'lr_bu': [0.002, 0.005],\n",
        "    'reg_pu': [0.4, 0.6]\n",
        "}"
      ],
      "metadata": {
        "id": "HeM_-jGpOqmp"
      },
      "execution_count": 1,
      "outputs": []
    },
    {
      "cell_type": "code",
      "source": [
        "!pip install scikit-surprise # Install the surprise library\n",
        "\n",
        "# Імпортуємо необхідний клас з бібліотеки surprise\n",
        "from surprise.model_selection import GridSearchCV"
      ],
      "metadata": {
        "colab": {
          "base_uri": "https://localhost:8080/"
        },
        "id": "XrbE6nQkP1fb",
        "outputId": "f8ec4742-d2cf-441e-ab62-cab97885f963"
      },
      "execution_count": 5,
      "outputs": [
        {
          "output_type": "stream",
          "name": "stdout",
          "text": [
            "Requirement already satisfied: scikit-surprise in /usr/local/lib/python3.10/dist-packages (1.1.4)\n",
            "Requirement already satisfied: joblib>=1.2.0 in /usr/local/lib/python3.10/dist-packages (from scikit-surprise) (1.4.2)\n",
            "Requirement already satisfied: numpy>=1.19.5 in /usr/local/lib/python3.10/dist-packages (from scikit-surprise) (1.25.2)\n",
            "Requirement already satisfied: scipy>=1.6.0 in /usr/local/lib/python3.10/dist-packages (from scikit-surprise) (1.13.1)\n"
          ]
        }
      ]
    },
    {
      "cell_type": "code",
      "source": [
        "# NMF\n",
        "param_grid_nmf = {\n",
        "    'n_epochs': [20, 30],\n",
        "    'lr_bu': [0.002, 0.005],\n",
        "    'reg_pu': [0.4, 0.6]\n",
        "}"
      ],
      "metadata": {
        "id": "r5xWbIClP5Sb"
      },
      "execution_count": 6,
      "outputs": []
    },
    {
      "cell_type": "code",
      "source": [
        "gs_nmf = GridSearchCV(NMF, param_grid_nmf, measures=['rmse'], cv=3)"
      ],
      "metadata": {
        "id": "HNwt6DFsQQJ9"
      },
      "execution_count": 9,
      "outputs": []
    },
    {
      "cell_type": "code",
      "source": [
        "# directory: recommendation_system\n",
        "# file name: movielens_recommender.py\n",
        "\n",
        "import surprise\n",
        "from surprise import Dataset, Reader, SVD, SVDpp, NMF\n",
        "from surprise.model_selection import cross_validate, GridSearchCV\n",
        "\n",
        "# Завантаження даних MovieLens\n",
        "data = Dataset.load_builtin('ml-100k')\n",
        "\n",
        "# Визначення параметрів для SVD\n",
        "param_grid_svd = {\n",
        "    'n_epochs': [20, 30],\n",
        "    'lr_all': [0.002, 0.005],\n",
        "    'reg_all': [0.4, 0.6]\n",
        "}\n",
        "\n",
        "# Використання GridSearchCV для пошуку найкращих параметрів для SVD\n",
        "gs_svd = GridSearchCV(SVD, param_grid_svd, measures=['rmse'], cv=3)\n",
        "gs_svd.fit(data)\n",
        "\n",
        "# Отримання найкращої моделі для SVD\n",
        "best_svd = gs_svd.best_estimator['rmse']\n",
        "\n",
        "# Перевірка найкращої моделі на всіх даних\n",
        "cross_validate(best_svd, data, measures=['RMSE', 'MAE'], cv=5, verbose=True)\n",
        "\n",
        "# Використання інших алгоритмів: SVD++ та NMF\n",
        "# SVD++\n",
        "param_grid_svdpp = {\n",
        "    'n_epochs': [20, 30],\n",
        "    'lr_all': [0.002, 0.005],\n",
        "    'reg_all': [0.4, 0.6]\n",
        "}\n",
        "gs_svdpp = GridSearchCV(SVDpp, param_grid_svdpp, measures=['rmse'], cv=3)\n",
        "gs_svdpp.fit(data)\n",
        "best_svdpp = gs_svdpp.best_estimator['rmse']\n",
        "cross_validate(best_svdpp, data, measures=['RMSE', 'MAE'], cv=5, verbose=True)\n",
        "\n",
        "# NMF\n",
        "param_grid_nmf = {\n",
        "    'n_epochs': [20, 30],\n",
        "    'n_factors': [10, 15],\n",
        "    'reg_pu': [0.4, 0.6],\n",
        "    'reg_qi': [0.4, 0.6]\n",
        "}\n",
        "gs_nmf = GridSearchCV(NMF, param_grid_nmf, measures=['rmse'], cv=3)\n",
        "gs_nmf.fit(data)\n",
        "best_nmf = gs_nmf.best_estimator['rmse']\n",
        "cross_validate(best_nmf, data, measures=['RMSE', 'MAE'], cv=5, verbose=True)\n"
      ],
      "metadata": {
        "colab": {
          "base_uri": "https://localhost:8080/"
        },
        "id": "thOeLEUGQqEY",
        "outputId": "b517184d-6217-4cdd-eca8-649275b7c761"
      },
      "execution_count": 12,
      "outputs": [
        {
          "output_type": "stream",
          "name": "stdout",
          "text": [
            "Dataset ml-100k could not be found. Do you want to download it? [Y/n] y\n",
            "Trying to download dataset from https://files.grouplens.org/datasets/movielens/ml-100k.zip...\n",
            "Done! Dataset ml-100k has been saved to /root/.surprise_data/ml-100k\n",
            "Evaluating RMSE, MAE of algorithm SVD on 5 split(s).\n",
            "\n",
            "                  Fold 1  Fold 2  Fold 3  Fold 4  Fold 5  Mean    Std     \n",
            "RMSE (testset)    0.9537  0.9560  0.9549  0.9614  0.9524  0.9557  0.0031  \n",
            "MAE (testset)     0.7616  0.7671  0.7654  0.7689  0.7635  0.7653  0.0026  \n",
            "Fit time          2.97    2.11    2.11    2.13    2.15    2.29    0.34    \n",
            "Test time         0.20    0.24    0.13    0.17    0.12    0.17    0.04    \n",
            "Evaluating RMSE, MAE of algorithm SVDpp on 5 split(s).\n",
            "\n",
            "                  Fold 1  Fold 2  Fold 3  Fold 4  Fold 5  Mean    Std     \n",
            "RMSE (testset)    0.9528  0.9547  0.9571  0.9609  0.9513  0.9554  0.0034  \n",
            "MAE (testset)     0.7632  0.7648  0.7668  0.7692  0.7621  0.7652  0.0026  \n",
            "Fit time          41.47   41.11   41.08   42.70   48.96   43.06   3.01    \n",
            "Test time         6.13    5.73    5.02    5.54    5.50    5.59    0.36    \n",
            "Evaluating RMSE, MAE of algorithm NMF on 5 split(s).\n",
            "\n",
            "                  Fold 1  Fold 2  Fold 3  Fold 4  Fold 5  Mean    Std     \n",
            "RMSE (testset)    1.0276  1.0276  1.0299  1.0292  1.0260  1.0281  0.0014  \n",
            "MAE (testset)     0.8440  0.8425  0.8443  0.8456  0.8392  0.8431  0.0022  \n",
            "Fit time          1.62    1.65    1.50    1.41    1.37    1.51    0.11    \n",
            "Test time         0.11    0.28    0.13    0.23    0.12    0.17    0.07    \n"
          ]
        },
        {
          "output_type": "execute_result",
          "data": {
            "text/plain": [
              "{'test_rmse': array([1.02761329, 1.02758119, 1.0299229 , 1.02924692, 1.02604144]),\n",
              " 'test_mae': array([0.84401681, 0.84246366, 0.84429346, 0.84556966, 0.83920701]),\n",
              " 'fit_time': (1.6233901977539062,\n",
              "  1.646575689315796,\n",
              "  1.504042625427246,\n",
              "  1.4111275672912598,\n",
              "  1.366610050201416),\n",
              " 'test_time': (0.11023616790771484,\n",
              "  0.2814748287200928,\n",
              "  0.12629151344299316,\n",
              "  0.22925996780395508,\n",
              "  0.12338042259216309)}"
            ]
          },
          "metadata": {},
          "execution_count": 12
        }
      ]
    },
    {
      "cell_type": "code",
      "source": [
        "best_nmf = gs_nmf.best_estimator['rmse']"
      ],
      "metadata": {
        "id": "wNQGx-uvcmpc"
      },
      "execution_count": 13,
      "outputs": []
    },
    {
      "cell_type": "code",
      "source": [
        "cross_validate(best_nmf, data, measures=['RMSE', 'MAE'], cv=5, verbose=True)"
      ],
      "metadata": {
        "colab": {
          "base_uri": "https://localhost:8080/"
        },
        "id": "nSKpQ2Cvcy2A",
        "outputId": "f0d7d87a-03db-4162-f2be-9c532b21dee5"
      },
      "execution_count": 14,
      "outputs": [
        {
          "output_type": "stream",
          "name": "stdout",
          "text": [
            "Evaluating RMSE, MAE of algorithm NMF on 5 split(s).\n",
            "\n",
            "                  Fold 1  Fold 2  Fold 3  Fold 4  Fold 5  Mean    Std     \n",
            "RMSE (testset)    1.0305  1.0308  1.0273  1.0284  1.0245  1.0283  0.0023  \n",
            "MAE (testset)     0.8452  0.8430  0.8447  0.8457  0.8381  0.8433  0.0028  \n",
            "Fit time          1.58    1.45    1.19    1.23    1.20    1.33    0.16    \n",
            "Test time         0.18    0.11    0.10    0.23    0.10    0.15    0.05    \n"
          ]
        },
        {
          "output_type": "execute_result",
          "data": {
            "text/plain": [
              "{'test_rmse': array([1.03046849, 1.03081681, 1.02728492, 1.02836874, 1.02453719]),\n",
              " 'test_mae': array([0.84519884, 0.84303366, 0.84474193, 0.84570172, 0.83806499]),\n",
              " 'fit_time': (1.5828700065612793,\n",
              "  1.4468605518341064,\n",
              "  1.1873805522918701,\n",
              "  1.2272629737854004,\n",
              "  1.203864574432373),\n",
              " 'test_time': (0.17747831344604492,\n",
              "  0.11132931709289551,\n",
              "  0.10383009910583496,\n",
              "  0.23332643508911133,\n",
              "  0.10464978218078613)}"
            ]
          },
          "metadata": {},
          "execution_count": 14
        }
      ]
    }
  ]
}
